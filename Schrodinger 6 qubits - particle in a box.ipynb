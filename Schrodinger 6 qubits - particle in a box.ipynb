{
 "cells": [
  {
   "cell_type": "code",
   "execution_count": 1,
   "metadata": {},
   "outputs": [
    {
     "name": "stdout",
     "output_type": "stream",
     "text": [
      "1.0\n"
     ]
    },
    {
     "data": {
      "image/png": "[encoded data removed]",
      "text/plain": [
       "<Figure size 432x288 with 1 Axes>"
      ]
     },
     "metadata": {
      "needs_background": "light"
     },
     "output_type": "display_data"
    }
   ],
   "source": [
    "import matplotlib.pyplot as plt\n",
    "import math\n",
    "import numpy as np\n",
    "from qiskit.circuit.library import NormalDistribution\n",
    "from math import pi\n",
    "from qiskit import IBMQ, BasicAer, Aer\n",
    "from qiskit import QuantumCircuit, ClassicalRegister, QuantumRegister, execute\n",
    "from qiskit.visualization import plot_histogram\n",
    "\n",
    "#Preparing the sine-shaped histogram that will be used in the initialisation\n",
    "L = 1\n",
    "n = 1\n",
    "x = np.linspace(0,L, num=64)\n",
    "storage_for_normalisation = []\n",
    "\n",
    "\n",
    "Normalisation_wavefunction = (np.sqrt(2/L)*(np.sin(n*pi*x/L)))\n",
    "\n",
    "Normalisation_Constant = np.sum(Normalisation_wavefunction)\n",
    "\n",
    "waveFunction = (math.sqrt(2/L)*np.sin(n*math.pi*x/L)/(Normalisation_Constant))\n",
    "\n",
    "print(np.sum(waveFunction))\n",
    "\n",
    "plt.plot(x,(waveFunction))\n",
    "plt.show()"
   ]
  },
  {
   "cell_type": "code",
   "execution_count": null,
   "metadata": {
    "scrolled": false
   },
   "outputs": [],
   "source": [
    "\n",
    "\n",
    "#n = 6 #number of qubits not including ancilla\n",
    "phi = pi*2\n",
    "\n",
    "\n",
    "qb = 6  #Number of active qubits. Not including Ancilla\n",
    "cbits = 6\n",
    "\n",
    "q = QuantumRegister(qb + 1)\n",
    "c = ClassicalRegister(cbits)\n",
    "qc = QuantumCircuit(q,c)\n",
    "\n",
    "qc2 = QuantumCircuit(q,c)\n",
    "\n",
    "#Initialisation\n",
    "\n",
    "\n",
    "##############################################  INITILIZATION    ###################################################################\n",
    "\n",
    "\n",
    "qc.initialize(np.sqrt(waveFunction), [q[1],q[2],q[3],q[4],q[5],q[6]])\n",
    "\n",
    "\n",
    "\n",
    "\n",
    "\n",
    "#######################################################################################################################\n",
    "\n",
    "\n",
    "qc.barrier()\n",
    "\n",
    "#########################################  QUANTUM FOURIER TRANSFORM ###################################\n",
    "\n",
    "\n",
    "def QFT(qubits):\n",
    "    for i in range(qubits):\n",
    "        qc.barrier()\n",
    "        qc.h(i+1)\n",
    "        for j in range(qubits - 1 - i):\n",
    "            qc.cp(pi/(2**(j+1)), i+2+j, i+1)\n",
    "\n",
    "            \n",
    "QFT(qb)\n",
    "\n",
    "qc.x(qb)\n",
    "for k in range(qb):\n",
    "    qc.measure(k+1,k)\n",
    "\n",
    "   #Centering the Momentum\n",
    "\n",
    "###############################################  TIME STEP  ##############################################################\n",
    "\n",
    "'''\n",
    "\n",
    "qc.barrier()\n",
    "\n",
    "def Time_Evolution(qubits):\n",
    "    for i in range (qubits):\n",
    "        qc.p(phi/(2**(i+qubits-3)), qubits-i)\n",
    "    for i in range (qubits):\n",
    "        for j in range (i+1,qubits):\n",
    "            qc.cx(qubits-j, 0)\n",
    "            qc.cx(qubits-i, 0)\n",
    "            qc.p(phi* (2**(2-i-j)), 0) #2-i-j or 4?\n",
    "            qc.cx(qubits-i, 0)\n",
    "            qc.cx(qubits-j, 0)\n",
    "    \n",
    "    \n",
    "Time_Evolution(qb)\n",
    "\n",
    "\n",
    "\n",
    "qc.barrier()\n",
    "###############################################  Inverse QFT   ####################################################\n",
    "#qc.x(qb)\n",
    "\n",
    "\n",
    "def QFT_Inv(qubits):\n",
    "    for i in reversed(range(qubits)):\n",
    "        for j in range(qubits - 1 - i):\n",
    "            qc.cp(-pi/(2**(j+1)), i+2+j, i+1)\n",
    "        qc.h(i+1)\n",
    "        qc.barrier()\n",
    "\n",
    "    \n",
    "    \n",
    "QFT_Inv(qb)\n",
    "\n",
    "\n",
    "\n",
    "qc.barrier()\n",
    "\n",
    "\n",
    "#Measurement\n",
    "\n",
    "\n",
    "#for k in range(qb):\n",
    "#    qc.measure(k+1,k)\n",
    "\n",
    "'''\n",
    "\n",
    "qc.draw('mpl')\n"
   ]
  },
  {
   "cell_type": "code",
   "execution_count": null,
   "metadata": {},
   "outputs": [],
   "source": [
    "backend = BasicAer.get_backend('qasm_simulator')\n",
    "shots = 65536\n",
    "results = execute(qc, backend=backend, shots=shots).result()\n",
    "answer = results.get_counts()\n",
    "\n",
    "plot_histogram(answer, title = \"Sine\")"
   ]
  },
  {
   "cell_type": "code",
   "execution_count": null,
   "metadata": {},
   "outputs": [],
   "source": []
  }
 ],
 "metadata": {
  "kernelspec": {
   "display_name": "Python 3",
   "language": "python",
   "name": "python3"
  },
  "language_info": {
   "codemirror_mode": {
    "name": "ipython",
    "version": 3
   },
   "file_extension": ".py",
   "mimetype": "text/x-python",
   "name": "python",
   "nbconvert_exporter": "python",
   "pygments_lexer": "ipython3",
   "version": "3.8.5"
  }
 },
 "nbformat": 4,
 "nbformat_minor": 4
}
