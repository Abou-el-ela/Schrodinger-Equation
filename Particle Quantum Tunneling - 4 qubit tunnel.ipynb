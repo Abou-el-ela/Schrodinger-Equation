{
 "cells": [
  {
   "cell_type": "code",
   "execution_count": 9,
   "metadata": {},
   "outputs": [
    {
     "name": "stdout",
     "output_type": "stream",
     "text": [
      "(0.1923917300664661+1.761063988222529e-07j)\n"
     ]
    },
    {
     "name": "stderr",
     "output_type": "stream",
     "text": [
      "C:\\Users\\MohamedAbouelela\\anaconda3\\envs\\quantumThesis\\lib\\site-packages\\numpy\\core\\_asarray.py:83: ComplexWarning: Casting complex values to real discards the imaginary part\n",
      "  return array(a, dtype, copy=False, order=order)\n"
     ]
    },
    {
     "data": {
      "image/png": "[encoded data removed]",
      "text/plain": [
       "<Figure size 432x288 with 1 Axes>"
      ]
     },
     "metadata": {
      "needs_background": "light"
     },
     "output_type": "display_data"
    }
   ],
   "source": [
    "import matplotlib.pyplot as plt\n",
    "import math\n",
    "import numpy as np\n",
    "from qiskit.circuit.library import NormalDistribution\n",
    "from math import pi\n",
    "from qiskit import IBMQ, BasicAer, Aer\n",
    "from qiskit import QuantumCircuit, ClassicalRegister, QuantumRegister, execute\n",
    "from qiskit.visualization import plot_histogram\n",
    "\n",
    "#Preparing the sine-shaped histogram that will be used in the initialisation\n",
    "\n",
    "\n",
    "x = np.linspace(-0.5,2, num=16)\n",
    "storage_for_normalisation = []\n",
    "\n",
    "mu = 0\n",
    "Normalisation_wavefunction = (1/(np.sqrt(2*np.pi)*2*0.4)*np.exp(-(0.5*(x-mu)**2)/(2*0.016)))*np.exp(200j*x)\n",
    "\n",
    "Normalisation_Constant = np.sqrt(np.sum(np.abs(Normalisation_wavefunction**2)))\n",
    "\n",
    "waveFunction = (Normalisation_wavefunction)/(Normalisation_Constant)\n",
    "print(sum(waveFunction**2))\n",
    "plt.plot(x,waveFunction)\n",
    "plt.show()"
   ]
  },
  {
   "cell_type": "code",
   "execution_count": 10,
   "metadata": {
    "scrolled": false
   },
   "outputs": [
    {
     "name": "stderr",
     "output_type": "stream",
     "text": [
      "C:\\Users\\MohamedAbouelela\\anaconda3\\envs\\quantumThesis\\lib\\site-packages\\qiskit\\providers\\ibmq\\ibmqfactory.py:192: UserWarning: Timestamps in IBMQ backend properties, jobs, and job results are all now in local time instead of UTC.\n",
      "  warnings.warn('Timestamps in IBMQ backend properties, jobs, and job results '\n"
     ]
    },
    {
     "name": "stdout",
     "output_type": "stream",
     "text": [
      "Job Status: job has successfully run\n"
     ]
    },
    {
     "name": "stderr",
     "output_type": "stream",
     "text": [
      "ibmqfactory.load_account:WARNING:2020-12-20 01:06:59,696: Credentials are already in use. The existing account in the session will be replaced.\n"
     ]
    },
    {
     "name": "stdout",
     "output_type": "stream",
     "text": [
      "Job Status: job has successfully run\n"
     ]
    },
    {
     "name": "stderr",
     "output_type": "stream",
     "text": [
      "ibmqfactory.load_account:WARNING:2020-12-20 01:08:04,313: Credentials are already in use. The existing account in the session will be replaced.\n"
     ]
    },
    {
     "name": "stdout",
     "output_type": "stream",
     "text": [
      "Job Status: job has successfully run\n"
     ]
    },
    {
     "name": "stderr",
     "output_type": "stream",
     "text": [
      "ibmqfactory.load_account:WARNING:2020-12-20 01:09:07,193: Credentials are already in use. The existing account in the session will be replaced.\n"
     ]
    },
    {
     "name": "stdout",
     "output_type": "stream",
     "text": [
      "Job Status: job has successfully run\n"
     ]
    },
    {
     "name": "stderr",
     "output_type": "stream",
     "text": [
      "ibmqfactory.load_account:WARNING:2020-12-20 01:11:08,996: Credentials are already in use. The existing account in the session will be replaced.\n"
     ]
    },
    {
     "name": "stdout",
     "output_type": "stream",
     "text": [
      "Job Status: job has successfully run\n"
     ]
    },
    {
     "name": "stderr",
     "output_type": "stream",
     "text": [
      "ibmqfactory.load_account:WARNING:2020-12-20 01:12:17,006: Credentials are already in use. The existing account in the session will be replaced.\n"
     ]
    },
    {
     "name": "stdout",
     "output_type": "stream",
     "text": [
      "Job Status: job has successfully run\n"
     ]
    },
    {
     "name": "stderr",
     "output_type": "stream",
     "text": [
      "ibmqfactory.load_account:WARNING:2020-12-20 01:13:30,836: Credentials are already in use. The existing account in the session will be replaced.\n"
     ]
    },
    {
     "name": "stdout",
     "output_type": "stream",
     "text": [
      "Job Status: job has successfully run\n"
     ]
    },
    {
     "name": "stderr",
     "output_type": "stream",
     "text": [
      "ibmqfactory.load_account:WARNING:2020-12-20 01:15:13,062: Credentials are already in use. The existing account in the session will be replaced.\n"
     ]
    },
    {
     "name": "stdout",
     "output_type": "stream",
     "text": [
      "Job Status: job has successfully run\n"
     ]
    },
    {
     "name": "stderr",
     "output_type": "stream",
     "text": [
      "ibmqfactory.load_account:WARNING:2020-12-20 01:17:13,544: Credentials are already in use. The existing account in the session will be replaced.\n"
     ]
    },
    {
     "name": "stdout",
     "output_type": "stream",
     "text": [
      "Job Status: job has successfully run\n"
     ]
    },
    {
     "name": "stderr",
     "output_type": "stream",
     "text": [
      "ibmqfactory.load_account:WARNING:2020-12-20 01:19:56,328: Credentials are already in use. The existing account in the session will be replaced.\n"
     ]
    },
    {
     "name": "stdout",
     "output_type": "stream",
     "text": [
      "Job Status: job has successfully run\n"
     ]
    }
   ],
   "source": [
    "\n",
    "\n",
    "#n = 6 #number of qubits not including ancilla\n",
    "phi = 0.1\n",
    "V = 1.75\n",
    "\n",
    "\n",
    "\n",
    "qb = 4  #Number of active qubits. Not including Ancilla\n",
    "cbits = 4\n",
    "\n",
    "q = QuantumRegister(qb + 1)\n",
    "c = ClassicalRegister(cbits)\n",
    "qc = QuantumCircuit(q)\n",
    "\n",
    "qc2 = QuantumCircuit(q,c)\n",
    "\n",
    "#Initialisation\n",
    "\n",
    "def QFT(qubits):\n",
    "    qc.swap(1,4)\n",
    "    qc.swap(2,3)\n",
    "    for i in range(qubits):\n",
    "        qc.h(i+1)\n",
    "        for j in range(qubits - 1 - i):\n",
    "            qc.cp(pi/(2**(j+1)), i+2+j, i+1)\n",
    "\n",
    "\n",
    "def Time_Evolution(qubits):\n",
    "    for i in range (qubits):\n",
    "        qc.p(phi/(2**(i+qubits-3)), qubits-i)\n",
    "    for i in range (qubits):\n",
    "        for j in range (i+1,qubits):\n",
    "            qc.cx(qubits-j, 0)\n",
    "            qc.cx(qubits-i, 0)\n",
    "            qc.p(phi* (2**(2-i-j)), 0) #2-i-j or 4?\n",
    "            qc.cx(qubits-i, 0)\n",
    "            qc.cx(qubits-j, 0)\n",
    "\n",
    "def QFT_Inv(qubits):\n",
    "    for i in reversed(range(qubits)):\n",
    "        for j in range(qubits - 1 - i):\n",
    "            qc.cp(-pi/(2**(j+1)), i+2+j, i+1)\n",
    "        qc.h(i+1)            \n",
    "    qc.swap(1,4)\n",
    "    qc.swap(2,3)\n",
    "##############################################  INITILIZATION    ###################################################################\n",
    "\n",
    "l = 0\n",
    "for l in range(10):\n",
    "\n",
    "\n",
    "    qc2.initialize(waveFunction, [q[1],q[2],q[3],q[4]])\n",
    "\n",
    "\n",
    "\n",
    "########################################### POTENTIAL   ############################################################################\n",
    "\n",
    "    qc.cx(3,0)\n",
    "    qc.cp(V*phi,0,2)\n",
    "    qc.cx(3,0)\n",
    "\n",
    "    \n",
    "\n",
    "#########################################  QUANTUM FOURIER TRANSFORM ###################################\n",
    "\n",
    "\n",
    "            \n",
    "    QFT(qb)\n",
    "\n",
    "    qc.x(qb)\n",
    "    \n",
    "#for k in range(qb):\n",
    "#    qc.measure(k+1,k)\n",
    "\n",
    "\n",
    "\n",
    "   #Centering the Momentum\n",
    "\n",
    "###############################################  TIME STEP  ##############################################################\n",
    "\n",
    "\n",
    "\n",
    "    Time_Evolution(qb)\n",
    "\n",
    "\n",
    "###############################################  Inverse QFT   ####################################################\n",
    "\n",
    "\n",
    "    qc.x(qb)\n",
    "    \n",
    "    \n",
    "    QFT_Inv(qb)\n",
    "\n",
    "\n",
    "\n",
    "#totqc = qc.to_gate()\n",
    "\n",
    "\n",
    "    for i in range(l):\n",
    "        qc2.append(qc, [0,1,2,3,4])\n",
    "\n",
    "\n",
    "\n",
    "#Measurement\n",
    "\n",
    "\n",
    "    for k in range(qb):\n",
    "        qc2.measure(k+1,k)\n",
    "\n",
    "   # backend = BasicAer.get_backend('qasm_simulator')\n",
    "   # shots = 65536\n",
    "   # results = execute(qc2, backend=backend, shots=shots).result()\n",
    "   # answer = results.get_counts()\n",
    "    \n",
    "    \n",
    "    IBMQ.load_account()\n",
    "    provider = IBMQ.get_provider('ibm-q')\n",
    "    qcomp = provider.get_backend('ibmq_vigo')\n",
    "    job = execute(qc2, backend=qcomp, shots=8192)\n",
    "\n",
    "    from qiskit.tools.monitor import job_monitor\n",
    "\n",
    "    job_monitor(job)\n",
    "        \n",
    "    result = job.result()\n",
    "    answer = result.get_counts()\n",
    "    \n",
    "    \n",
    "    \n",
    "    for a in range(2**qb):\n",
    "        s = '{0:04b}'.format(a)\n",
    "        if s not in answer.keys():\n",
    "            answer[s] = 0\n",
    "    plot_histogram(answer, title = \"Particle in a Step Potential\", figsize = [20,10]).savefig('F:\\Thesis\\Tunneling\\\\1V\\\\pointO1\\\\small\\\\quantumcomputer\\Tunnel'+ str(l) +'.png')\n",
    "    \n",
    "    qc2.data = []\n",
    "\n",
    "#qc.draw('mpl')\n"
   ]
  },
  {
   "cell_type": "code",
   "execution_count": 46,
   "metadata": {},
   "outputs": [
    {
     "data": {
      "image/png": "[encoded data removed]",
      "text/plain": [
       "<Figure size 1440x720 with 1 Axes>"
      ]
     },
     "execution_count": 46,
     "metadata": {},
     "output_type": "execute_result"
    }
   ],
   "source": [
    "backend = BasicAer.get_backend('qasm_simulator')\n",
    "shots = 65536\n",
    "results = execute(qc2, backend=backend, shots=shots).result()\n",
    "answer = results.get_counts()\n",
    "\n",
    "plot_histogram(answer, title = \"Particle in a Step Potential\", figsize = [20,10])"
   ]
  },
  {
   "cell_type": "code",
   "execution_count": 32,
   "metadata": {},
   "outputs": [
    {
     "name": "stderr",
     "output_type": "stream",
     "text": [
      "ibmqfactory.load_account:WARNING:2020-11-28 01:14:17,747: Credentials are already in use. The existing account in the session will be replaced.\n"
     ]
    },
    {
     "name": "stdout",
     "output_type": "stream",
     "text": [
      "Job Status: job incurred error     \n"
     ]
    }
   ],
   "source": [
    "#On the Quantum Computer\n",
    "\n",
    "from qiskit import IBMQ\n",
    "IBMQ.load_account()\n",
    "provider = IBMQ.get_provider('ibm-q')\n",
    "qcomp = provider.get_backend('ibmq_16_melbourne')\n",
    "job = execute(qc2, backend=qcomp, shots=8192)\n",
    "\n",
    "from qiskit.tools.monitor import job_monitor\n",
    "\n",
    "job_monitor(job)"
   ]
  },
  {
   "cell_type": "code",
   "execution_count": null,
   "metadata": {},
   "outputs": [],
   "source": []
  }
 ],
 "metadata": {
  "kernelspec": {
   "display_name": "Python 3",
   "language": "python",
   "name": "python3"
  },
  "language_info": {
   "codemirror_mode": {
    "name": "ipython",
    "version": 3
   },
   "file_extension": ".py",
   "mimetype": "text/x-python",
   "name": "python",
   "nbconvert_exporter": "python",
   "pygments_lexer": "ipython3",
   "version": "3.8.5"
  }
 },
 "nbformat": 4,
 "nbformat_minor": 4
}
