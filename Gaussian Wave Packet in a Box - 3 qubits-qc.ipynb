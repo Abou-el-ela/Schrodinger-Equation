{
 "cells": [
  {
   "cell_type": "code",
   "execution_count": 4,
   "metadata": {
    "scrolled": true
   },
   "outputs": [
    {
     "name": "stdout",
     "output_type": "stream",
     "text": [
      "[6.67085733e-28 3.80078754e-21 2.34674924e-15 1.57022153e-10\n",
      " 1.13856105e-06 8.94649389e-04 7.61816837e-02 7.02990434e-01\n",
      " 7.02990434e-01 7.61816837e-02 8.94649389e-04 1.13856105e-06\n",
      " 1.57022153e-10 2.34674924e-15 3.80078754e-21 6.67085733e-28]\n"
     ]
    },
    {
     "data": {
      "image/png": "[encoded data removed]",
      "text/plain": [
       "<Figure size 432x288 with 1 Axes>"
      ]
     },
     "metadata": {
      "needs_background": "light"
     },
     "output_type": "display_data"
    }
   ],
   "source": [
    "import matplotlib.pyplot as plt\n",
    "import math\n",
    "import numpy as np\n",
    "from qiskit.circuit.library import NormalDistribution\n",
    "from math import pi\n",
    "from qiskit import IBMQ, BasicAer\n",
    "from qiskit import QuantumCircuit, ClassicalRegister, QuantumRegister, execute\n",
    "from qiskit.visualization import plot_histogram\n",
    "\n",
    "#Preparing the Gaussian-shaped histogram that will be used in the initialisation\n",
    "\n",
    "x = np.linspace(-2,2, num=16)\n",
    "storage_for_normalisation = []\n",
    "\n",
    "Normalisation_wavefunction = (1/(np.sqrt(2*np.pi)*2*0.4)*np.exp(-(0.5*x**2)/(2*0.016)))\n",
    "\n",
    "Normalisation_Constant = np.sqrt(np.sum(np.abs(Normalisation_wavefunction**2)))\n",
    "\n",
    "waveFunction = (Normalisation_wavefunction)/(Normalisation_Constant)\n",
    "\n",
    "print(waveFunction)\n",
    "plt.plot(x,waveFunction)\n",
    "plt.show()\n"
   ]
  },
  {
   "cell_type": "code",
   "execution_count": 7,
   "metadata": {
    "scrolled": false
   },
   "outputs": [
    {
     "name": "stderr",
     "output_type": "stream",
     "text": [
      "C:\\Users\\MohamedAbouelela\\anaconda3\\envs\\quantumThesis\\lib\\site-packages\\qiskit\\providers\\ibmq\\ibmqfactory.py:192: UserWarning: Timestamps in IBMQ backend properties, jobs, and job results are all now in local time instead of UTC.\n",
      "  warnings.warn('Timestamps in IBMQ backend properties, jobs, and job results '\n"
     ]
    },
    {
     "name": "stdout",
     "output_type": "stream",
     "text": [
      "Job Status: job has successfully run\n"
     ]
    },
    {
     "name": "stderr",
     "output_type": "stream",
     "text": [
      "ibmqfactory.load_account:WARNING:2020-12-19 20:53:43,407: Credentials are already in use. The existing account in the session will be replaced.\n"
     ]
    },
    {
     "name": "stdout",
     "output_type": "stream",
     "text": [
      "Job Status: job has successfully run\n"
     ]
    },
    {
     "name": "stderr",
     "output_type": "stream",
     "text": [
      "ibmqfactory.load_account:WARNING:2020-12-19 20:54:40,872: Credentials are already in use. The existing account in the session will be replaced.\n"
     ]
    },
    {
     "name": "stdout",
     "output_type": "stream",
     "text": [
      "Job Status: job has successfully run\n"
     ]
    },
    {
     "name": "stderr",
     "output_type": "stream",
     "text": [
      "ibmqfactory.load_account:WARNING:2020-12-19 20:59:58,323: Credentials are already in use. The existing account in the session will be replaced.\n"
     ]
    },
    {
     "name": "stdout",
     "output_type": "stream",
     "text": [
      "Job Status: job has successfully run\n"
     ]
    },
    {
     "name": "stderr",
     "output_type": "stream",
     "text": [
      "ibmqfactory.load_account:WARNING:2020-12-19 21:05:30,268: Credentials are already in use. The existing account in the session will be replaced.\n"
     ]
    },
    {
     "name": "stdout",
     "output_type": "stream",
     "text": [
      "Job Status: job has successfully run\n"
     ]
    },
    {
     "name": "stderr",
     "output_type": "stream",
     "text": [
      "ibmqfactory.load_account:WARNING:2020-12-19 21:12:53,859: Credentials are already in use. The existing account in the session will be replaced.\n"
     ]
    },
    {
     "name": "stdout",
     "output_type": "stream",
     "text": [
      "Job Status: job has successfully run\n"
     ]
    },
    {
     "name": "stderr",
     "output_type": "stream",
     "text": [
      "ibmqfactory.load_account:WARNING:2020-12-19 21:23:12,720: Credentials are already in use. The existing account in the session will be replaced.\n"
     ]
    },
    {
     "name": "stdout",
     "output_type": "stream",
     "text": [
      "Job Status: job has successfully run\n"
     ]
    },
    {
     "name": "stderr",
     "output_type": "stream",
     "text": [
      "ibmqfactory.load_account:WARNING:2020-12-19 21:36:59,210: Credentials are already in use. The existing account in the session will be replaced.\n"
     ]
    },
    {
     "name": "stdout",
     "output_type": "stream",
     "text": [
      "Job Status: job has successfully run\n"
     ]
    },
    {
     "name": "stderr",
     "output_type": "stream",
     "text": [
      "ibmqfactory.load_account:WARNING:2020-12-19 21:50:33,326: Credentials are already in use. The existing account in the session will be replaced.\n"
     ]
    },
    {
     "name": "stdout",
     "output_type": "stream",
     "text": [
      "Job Status: job is queued (1)     "
     ]
    },
    {
     "ename": "KeyboardInterrupt",
     "evalue": "",
     "output_type": "error",
     "traceback": [
      "\u001b[1;31m---------------------------------------------------------------------------\u001b[0m",
      "\u001b[1;31mKeyboardInterrupt\u001b[0m                         Traceback (most recent call last)",
      "\u001b[1;32m<ipython-input-7-d023ab716d30>\u001b[0m in \u001b[0;36m<module>\u001b[1;34m\u001b[0m\n\u001b[0;32m    135\u001b[0m     \u001b[1;32mfrom\u001b[0m \u001b[0mqiskit\u001b[0m\u001b[1;33m.\u001b[0m\u001b[0mtools\u001b[0m\u001b[1;33m.\u001b[0m\u001b[0mmonitor\u001b[0m \u001b[1;32mimport\u001b[0m \u001b[0mjob_monitor\u001b[0m\u001b[1;33m\u001b[0m\u001b[1;33m\u001b[0m\u001b[0m\n\u001b[0;32m    136\u001b[0m \u001b[1;33m\u001b[0m\u001b[0m\n\u001b[1;32m--> 137\u001b[1;33m     \u001b[0mjob_monitor\u001b[0m\u001b[1;33m(\u001b[0m\u001b[0mjob\u001b[0m\u001b[1;33m)\u001b[0m\u001b[1;33m\u001b[0m\u001b[1;33m\u001b[0m\u001b[0m\n\u001b[0m\u001b[0;32m    138\u001b[0m \u001b[1;33m\u001b[0m\u001b[0m\n\u001b[0;32m    139\u001b[0m     \u001b[0mresult\u001b[0m \u001b[1;33m=\u001b[0m \u001b[0mjob\u001b[0m\u001b[1;33m.\u001b[0m\u001b[0mresult\u001b[0m\u001b[1;33m(\u001b[0m\u001b[1;33m)\u001b[0m\u001b[1;33m\u001b[0m\u001b[1;33m\u001b[0m\u001b[0m\n",
      "\u001b[1;32m~\\anaconda3\\envs\\quantumThesis\\lib\\site-packages\\qiskit\\tools\\monitor\\job_monitor.py\u001b[0m in \u001b[0;36mjob_monitor\u001b[1;34m(job, interval, quiet, output)\u001b[0m\n\u001b[0;32m     81\u001b[0m         \u001b[0m_interval_set\u001b[0m \u001b[1;33m=\u001b[0m \u001b[1;32mTrue\u001b[0m\u001b[1;33m\u001b[0m\u001b[1;33m\u001b[0m\u001b[0m\n\u001b[0;32m     82\u001b[0m \u001b[1;33m\u001b[0m\u001b[0m\n\u001b[1;32m---> 83\u001b[1;33m     _text_checker(job, interval, _interval_set,\n\u001b[0m\u001b[0;32m     84\u001b[0m                   quiet=quiet, output=output)\n",
      "\u001b[1;32m~\\anaconda3\\envs\\quantumThesis\\lib\\site-packages\\qiskit\\tools\\monitor\\job_monitor.py\u001b[0m in \u001b[0;36m_text_checker\u001b[1;34m(job, interval, _interval_set, quiet, output)\u001b[0m\n\u001b[0;32m     38\u001b[0m         \u001b[0mprint\u001b[0m\u001b[1;33m(\u001b[0m\u001b[1;34m'\\r%s: %s'\u001b[0m \u001b[1;33m%\u001b[0m \u001b[1;33m(\u001b[0m\u001b[1;34m'Job Status'\u001b[0m\u001b[1;33m,\u001b[0m \u001b[0mmsg\u001b[0m\u001b[1;33m)\u001b[0m\u001b[1;33m,\u001b[0m \u001b[0mend\u001b[0m\u001b[1;33m=\u001b[0m\u001b[1;34m''\u001b[0m\u001b[1;33m,\u001b[0m \u001b[0mfile\u001b[0m\u001b[1;33m=\u001b[0m\u001b[0moutput\u001b[0m\u001b[1;33m)\u001b[0m\u001b[1;33m\u001b[0m\u001b[1;33m\u001b[0m\u001b[0m\n\u001b[0;32m     39\u001b[0m     \u001b[1;32mwhile\u001b[0m \u001b[0mstatus\u001b[0m\u001b[1;33m.\u001b[0m\u001b[0mname\u001b[0m \u001b[1;32mnot\u001b[0m \u001b[1;32min\u001b[0m \u001b[1;33m[\u001b[0m\u001b[1;34m'DONE'\u001b[0m\u001b[1;33m,\u001b[0m \u001b[1;34m'CANCELLED'\u001b[0m\u001b[1;33m,\u001b[0m \u001b[1;34m'ERROR'\u001b[0m\u001b[1;33m]\u001b[0m\u001b[1;33m:\u001b[0m\u001b[1;33m\u001b[0m\u001b[1;33m\u001b[0m\u001b[0m\n\u001b[1;32m---> 40\u001b[1;33m         \u001b[0mtime\u001b[0m\u001b[1;33m.\u001b[0m\u001b[0msleep\u001b[0m\u001b[1;33m(\u001b[0m\u001b[0minterval\u001b[0m\u001b[1;33m)\u001b[0m\u001b[1;33m\u001b[0m\u001b[1;33m\u001b[0m\u001b[0m\n\u001b[0m\u001b[0;32m     41\u001b[0m         \u001b[0mstatus\u001b[0m \u001b[1;33m=\u001b[0m \u001b[0mjob\u001b[0m\u001b[1;33m.\u001b[0m\u001b[0mstatus\u001b[0m\u001b[1;33m(\u001b[0m\u001b[1;33m)\u001b[0m\u001b[1;33m\u001b[0m\u001b[1;33m\u001b[0m\u001b[0m\n\u001b[0;32m     42\u001b[0m         \u001b[0mmsg\u001b[0m \u001b[1;33m=\u001b[0m \u001b[0mstatus\u001b[0m\u001b[1;33m.\u001b[0m\u001b[0mvalue\u001b[0m\u001b[1;33m\u001b[0m\u001b[1;33m\u001b[0m\u001b[0m\n",
      "\u001b[1;31mKeyboardInterrupt\u001b[0m: "
     ]
    }
   ],
   "source": [
    "\n",
    "\n",
    "#n = 6 #number of qubits not including ancilla\n",
    "phi = 0.1\n",
    "\n",
    "qb = 4\n",
    "\n",
    "q = QuantumRegister(qb + 1)\n",
    "c = ClassicalRegister(4)     ########################## INDEX ###########################\n",
    "qc = QuantumCircuit(q)\n",
    "\n",
    "qc2 = QuantumCircuit(q,c)\n",
    "\n",
    "#Initialisation\n",
    "\n",
    "\n",
    "def QFT(qubits):\n",
    "   # qc.swap(1,6)\n",
    "   # qc.swap(2,5)   ####################### INDEX #########################\n",
    "   # qc.swap(3,4)\n",
    "    qc.swap(1,4)\n",
    "    qc.swap(2,3)\n",
    "    for i in range(qubits):\n",
    "        #qc.barrier()\n",
    "        qc.h(i+1)\n",
    "        for j in range(qubits - 1 - i):\n",
    "            qc.cp(pi/(2**(j+1)), i+2+j, i+1)\n",
    "\n",
    "\n",
    "\n",
    "\n",
    "def Time_Evolution(qubits):\n",
    "    for i in range (qubits):\n",
    "        qc.p(phi/(2**(i+qubits-3)), qubits-i)\n",
    "    for i in range (qubits):\n",
    "        for j in range (i+1,qubits):\n",
    "            qc.cx(qubits-j, 0)\n",
    "            qc.cx(qubits-i, 0)\n",
    "            qc.p(phi* (2**(2-i-j)), 0) #2-i-j or 4?\n",
    "            qc.cx(qubits-i, 0)\n",
    "            qc.cx(qubits-j, 0)\n",
    "\n",
    "\n",
    "\n",
    "\n",
    "def QFT_Inv(qubits):\n",
    "    for i in reversed(range(qubits)):\n",
    "        for j in reversed(range(qubits - 1 - i)):\n",
    "            qc.cp(-pi/(2**(j+1)), i+2+j, i+1)\n",
    "        qc.h(i+1)\n",
    "        #qc.barrier()\n",
    "   # qc.swap(1,6)\n",
    "   # qc.swap(2,5)       #######################  INDEX  ##############################\n",
    "   # qc.swap(3,4) \n",
    "    qc.swap(1,4)\n",
    "    qc.swap(2,3)\n",
    "#################################################################################################################\n",
    "\n",
    "\n",
    "\n",
    "\n",
    "\n",
    "\n",
    "#######################################################################################################################\n",
    "\n",
    "\n",
    "l = 0\n",
    "\n",
    "#QFT\n",
    "for l in range(15):\n",
    "\n",
    "    qc2.initialize(waveFunction, [q[1],q[2],q[3],q[4]])    ################ INDEX #########################\n",
    "\n",
    "########################################### POTENTIAL   ############################################################################\n",
    "\n",
    "\n",
    "\n",
    "    #qc.p(V*phi,qb)\n",
    "\n",
    "\n",
    "\n",
    "#########################################  QUANTUM FOURIER TRANSFORM ###################################\n",
    "\n",
    "\n",
    "            \n",
    "    QFT(qb)\n",
    "\n",
    "    qc.x(qb)\n",
    "    \n",
    "#for k in range(qb):\n",
    "#    qc.measure(k+1,k)\n",
    "\n",
    "\n",
    "   #Centering the Momentum\n",
    "\n",
    "###############################################  TIME STEP  ##############################################################\n",
    "    \n",
    "    \n",
    "    Time_Evolution(qb)\n",
    "\n",
    "\n",
    "###############################################  Inverse QFT   ####################################################\n",
    "\n",
    "\n",
    "    qc.x(qb)\n",
    "    \n",
    "    QFT_Inv(qb)\n",
    "\n",
    "\n",
    "\n",
    "#totqc = qc.to_gate()\n",
    "\n",
    "\n",
    "\n",
    "    for i in range(l):\n",
    "        qc2.append(qc, [0,1,2,3,4])    ########## INDEX ###################\n",
    "\n",
    "\n",
    "\n",
    "#Measurement\n",
    "\n",
    "\n",
    "    for k in range(qb):\n",
    "        qc2.measure(k+1,k)\n",
    "\n",
    "    #backend = BasicAer.get_backend('qasm_simulator')\n",
    "    #shots = 65536\n",
    "    #results = execute(qc2, backend=backend, shots=shots).result()\n",
    "    #answer = results.get_counts()\n",
    "        \n",
    "        \n",
    "    IBMQ.load_account()\n",
    "    provider = IBMQ.get_provider('ibm-q')\n",
    "    qcomp = provider.get_backend('ibmq_vigo')\n",
    "    job = execute(qc2, backend=qcomp, shots=8192)\n",
    "\n",
    "    from qiskit.tools.monitor import job_monitor\n",
    "\n",
    "    job_monitor(job)\n",
    "        \n",
    "    result = job.result()\n",
    "    for a in range(2**qb):\n",
    "        s = '{0:04b}'.format(a)\n",
    "        if s not in answer.keys():\n",
    "            answer[s] = 0\n",
    "    plot_histogram(result.get_counts(), title = \"Particle in a Step Potential\", figsize = [20,10]).savefig('F:\\Thesis\\Gaussian\\\\quantumcomputer\\\\gaussian'+ str(l) +'.png')\n",
    "    \n",
    "    qc2.data = []\n",
    "#qc2.draw('mpl')\n"
   ]
  },
  {
   "cell_type": "code",
   "execution_count": null,
   "metadata": {},
   "outputs": [],
   "source": []
  }
 ],
 "metadata": {
  "kernelspec": {
   "display_name": "Python 3",
   "language": "python",
   "name": "python3"
  },
  "language_info": {
   "codemirror_mode": {
    "name": "ipython",
    "version": 3
   },
   "file_extension": ".py",
   "mimetype": "text/x-python",
   "name": "python",
   "nbconvert_exporter": "python",
   "pygments_lexer": "ipython3",
   "version": "3.8.5"
  }
 },
 "nbformat": 4,
 "nbformat_minor": 4
}
