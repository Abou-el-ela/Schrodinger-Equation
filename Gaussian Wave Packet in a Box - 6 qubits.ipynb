{
 "cells": [
  {
   "cell_type": "code",
   "execution_count": 22,
   "metadata": {
    "scrolled": true
   },
   "outputs": [
    {
     "name": "stdout",
     "output_type": "stream",
     "text": [
      "(0.870750392697923-4.8619347217688587e-14j)\n"
     ]
    },
    {
     "name": "stderr",
     "output_type": "stream",
     "text": [
      "C:\\Users\\MohamedAbouelela\\anaconda3\\envs\\quantumThesis\\lib\\site-packages\\numpy\\core\\_asarray.py:83: ComplexWarning: Casting complex values to real discards the imaginary part\n",
      "  return array(a, dtype, copy=False, order=order)\n"
     ]
    },
    {
     "data": {
      "image/png": "[encoded data removed]",
      "text/plain": [
       "<Figure size 432x288 with 1 Axes>"
      ]
     },
     "metadata": {
      "needs_background": "light"
     },
     "output_type": "display_data"
    }
   ],
   "source": [
    "import matplotlib.pyplot as plt\n",
    "import math\n",
    "import numpy as np\n",
    "from qiskit.circuit.library import NormalDistribution\n",
    "from math import pi\n",
    "from qiskit import IBMQ, BasicAer\n",
    "from qiskit import QuantumCircuit, ClassicalRegister, QuantumRegister, execute\n",
    "from qiskit.visualization import plot_histogram\n",
    "\n",
    "#Preparing the Gaussian-shaped histogram that will be used in the initialisation\n",
    "\n",
    "x = np.linspace(-2,2, num=64)\n",
    "storage_for_normalisation = []\n",
    "\n",
    "Normalisation_wavefunction = (1/(np.sqrt(2*np.pi)*2*0.4)*np.exp(-(0.5*x**2)/(2*0.016)))\n",
    "\n",
    "Normalisation_Constant = np.sqrt(np.sum(np.abs(Normalisation_wavefunction**2)))\n",
    "\n",
    "waveFunction = (Normalisation_wavefunction)/(Normalisation_Constant)\n",
    "\n",
    "print(waveFunction)\n",
    "plt.plot(x,waveFunction)\n",
    "plt.show()\n"
   ]
  },
  {
   "cell_type": "code",
   "execution_count": 21,
   "metadata": {
    "scrolled": false
   },
   "outputs": [],
   "source": [
    "\n",
    "\n",
    "#n = 6 #number of qubits not including ancilla\n",
    "phi = 0.8\n",
    "\n",
    "qb = 6\n",
    "\n",
    "q = QuantumRegister(qb + 1)\n",
    "c = ClassicalRegister(6)\n",
    "qc = QuantumCircuit(q)\n",
    "\n",
    "qc2 = QuantumCircuit(q,c)\n",
    "\n",
    "#Initialisation\n",
    "\n",
    "\n",
    "def QFT(qubits):\n",
    "    qc.swap(1,6)\n",
    "    qc.swap(2,5)\n",
    "    qc.swap(3,4)\n",
    "    for i in range(qubits):\n",
    "        #qc.barrier()\n",
    "        qc.h(i+1)\n",
    "        for j in range(qubits - 1 - i):\n",
    "            qc.cp(pi/(2**(j+1)), i+2+j, i+1)\n",
    "\n",
    "\n",
    "\n",
    "\n",
    "def Time_Evolution(qubits):\n",
    "    for i in range (qubits):\n",
    "        qc.p(phi/(2**(i+qubits-3)), qubits-i)\n",
    "    for i in range (qubits):\n",
    "        for j in range (i+1,qubits):\n",
    "            qc.cx(qubits-j, 0)\n",
    "            qc.cx(qubits-i, 0)\n",
    "            qc.p(phi* (2**(2-i-j)), 0) #2-i-j or 4?\n",
    "            qc.cx(qubits-i, 0)\n",
    "            qc.cx(qubits-j, 0)\n",
    "\n",
    "\n",
    "\n",
    "\n",
    "def QFT_Inv(qubits):\n",
    "    for i in reversed(range(qubits)):\n",
    "        for j in reversed(range(qubits - 1 - i)):\n",
    "            qc.cp(-pi/(2**(j+1)), i+2+j, i+1)\n",
    "        qc.h(i+1)\n",
    "        #qc.barrier()\n",
    "    qc.swap(1,6)\n",
    "    qc.swap(2,5)\n",
    "    qc.swap(3,4)\n",
    "\n",
    "#################################################################################################################\n",
    "\n",
    "\n",
    "\n",
    "\n",
    "\n",
    "\n",
    "#######################################################################################################################\n",
    "\n",
    "\n",
    "l = 0\n",
    "\n",
    "#QFT\n",
    "for l in range(15):\n",
    "\n",
    "    qc2.initialize(waveFunction, [q[1],q[2],q[3],q[4],q[5],q[6]])\n",
    "\n",
    "########################################### POTENTIAL   ############################################################################\n",
    "\n",
    "\n",
    "\n",
    "    #qc.p(V*phi,qb)\n",
    "\n",
    "\n",
    "\n",
    "#########################################  QUANTUM FOURIER TRANSFORM ###################################\n",
    "\n",
    "\n",
    "            \n",
    "    QFT(qb)\n",
    "\n",
    "    qc.x(qb)\n",
    "    \n",
    "#for k in range(qb):\n",
    "#    qc.measure(k+1,k)\n",
    "\n",
    "\n",
    "   #Centering the Momentum\n",
    "\n",
    "###############################################  TIME STEP  ##############################################################\n",
    "    \n",
    "    \n",
    "    Time_Evolution(qb)\n",
    "\n",
    "\n",
    "###############################################  Inverse QFT   ####################################################\n",
    "\n",
    "\n",
    "    qc.x(qb)\n",
    "    \n",
    "    QFT_Inv(qb)\n",
    "\n",
    "\n",
    "\n",
    "#totqc = qc.to_gate()\n",
    "\n",
    "\n",
    "\n",
    "    for i in range(l):\n",
    "        qc2.append(qc, [0,1,2,3,4,5,6])\n",
    "\n",
    "\n",
    "\n",
    "#Measurement\n",
    "\n",
    "\n",
    "    for k in range(qb):\n",
    "        qc2.measure(k+1,k)\n",
    "\n",
    "    backend = BasicAer.get_backend('qasm_simulator')\n",
    "    shots = 65536\n",
    "    results = execute(qc2, backend=backend, shots=shots).result()\n",
    "    answer = results.get_counts()\n",
    "\n",
    "    plot_histogram(answer, title = \"Particle in a Step Potential\", figsize = [20,10]).savefig('F:\\Thesis\\Gaussian\\Moving\\\\move'+ str(l) +'.png')\n",
    "    \n",
    "    qc2.data = []\n",
    "#qc2.draw('mpl')\n"
   ]
  },
  {
   "cell_type": "code",
   "execution_count": 18,
   "metadata": {},
   "outputs": [
    {
     "data": {
      "image/png": "[encoded data removed]",
      "text/plain": [
       "<Figure size 1440x720 with 1 Axes>"
      ]
     },
     "execution_count": 18,
     "metadata": {},
     "output_type": "execute_result"
    }
   ],
   "source": [
    "qc.data = []\n",
    "qc3 = QuantumCircuit(q,c)\n",
    "qc3.initialize(waveFunction, [q[1],q[2],q[3],q[4],q[5],q[6]])\n",
    "QFT(qb)\n",
    "qc.x(qb)\n",
    "qc3.append(qc,[0,1,2,3,4,5,6])\n",
    "for k in range(qb):\n",
    "    qc3.measure(k+1,k)\n",
    "        \n",
    "backend = BasicAer.get_backend('qasm_simulator')\n",
    "shots = 65536\n",
    "results = execute(qc3, backend=backend, shots=shots).result()\n",
    "answer = results.get_counts()\n",
    "\n",
    "plot_histogram(answer, title = \"Particle in a Step Potential\", figsize = [20,10])\n"
   ]
  },
  {
   "cell_type": "code",
   "execution_count": null,
   "metadata": {},
   "outputs": [],
   "source": []
  }
 ],
 "metadata": {
  "kernelspec": {
   "display_name": "Python 3",
   "language": "python",
   "name": "python3"
  },
  "language_info": {
   "codemirror_mode": {
    "name": "ipython",
    "version": 3
   },
   "file_extension": ".py",
   "mimetype": "text/x-python",
   "name": "python",
   "nbconvert_exporter": "python",
   "pygments_lexer": "ipython3",
   "version": "3.8.5"
  }
 },
 "nbformat": 4,
 "nbformat_minor": 4
}
